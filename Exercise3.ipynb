{
 "cells": [
  {
   "cell_type": "markdown",
   "id": "6dc9297b",
   "metadata": {},
   "source": [
    "***Exercise 7:File I/O***"
   ]
  },
  {
   "cell_type": "code",
   "execution_count": 8,
   "id": "bf2f65f1",
   "metadata": {},
   "outputs": [],
   "source": [
    "from collections import Counter\n",
    "import pandas as pd\n",
    "import numpy as np"
   ]
  },
  {
   "cell_type": "markdown",
   "id": "0da765d6",
   "metadata": {},
   "source": [
    "*Exercise 7.1: Open a file*"
   ]
  },
  {
   "cell_type": "code",
   "execution_count": 9,
   "id": "3042a736",
   "metadata": {},
   "outputs": [],
   "source": [
    "def open_a_file(filename):\n",
    "    with open(filename,'r'):\n",
    "        lines=file.read()\n",
    "    return len(lines)\n",
    "    "
   ]
  },
  {
   "cell_type": "markdown",
   "id": "9c491efc",
   "metadata": {},
   "source": [
    "*Exercise 7.2: Wordcount*"
   ]
  },
  {
   "cell_type": "code",
   "execution_count": 14,
   "id": "e42eb509",
   "metadata": {},
   "outputs": [],
   "source": [
    "#a\n",
    "word_dictionary=[]\n",
    "def find_twenty_common(filename, n):\n",
    "    with open(filename,'r') as f:\n",
    "        for line in f:\n",
    "            for word in line.split():\n",
    "                word_dictionary.append(word)\n",
    "                \n",
    "    counter = Counter(word_dictionary)\n",
    "    occurmost = counter.most_common(n)\n",
    "    return occurmost\n",
    "    "
   ]
  },
  {
   "cell_type": "code",
   "execution_count": 15,
   "id": "44ad76c5",
   "metadata": {},
   "outputs": [],
   "source": [
    "#b\n",
    "def find_unique(word_dictionary):\n",
    "    word_set=set()\n",
    "    with open(filename,'r') as f:\n",
    "        for line in f:\n",
    "            for word in line.split():\n",
    "                word_set.add(word)\n",
    "    f.close()\n",
    "    print(len(wordSet))"
   ]
  },
  {
   "cell_type": "code",
   "execution_count": 16,
   "id": "c9b03a8f",
   "metadata": {},
   "outputs": [],
   "source": [
    "#c\n",
    "def at_least_n(filename,n):\n",
    "    occurmost= find_twenty_common(filename,len(word_dictionary))\n",
    "    at_least_n =[c for c in occurmost if c[1]>=n]\n",
    "    return len(at_least_n)"
   ]
  },
  {
   "cell_type": "code",
   "execution_count": 17,
   "id": "088fd0e8",
   "metadata": {},
   "outputs": [],
   "source": [
    "#d\n",
    "def n_common(filename, n):\n",
    "    with open(filename,'r') as f:\n",
    "        for line in f:\n",
    "            for word in line.split():\n",
    "                word_dictionary.append(word)\n",
    "def write_n_common_to_file(filename_to_read, filename_to_write, n):\n",
    "    n_common = find_n_common_words(filename_to_read, n)"
   ]
  },
  {
   "cell_type": "markdown",
   "id": "6135f488",
   "metadata": {},
   "source": [
    "*Exercise 7.3:Random text generator II*"
   ]
  },
  {
   "cell_type": "code",
   "execution_count": 22,
   "id": "b366c92b",
   "metadata": {},
   "outputs": [],
   "source": [
    "import random\n",
    "#to read lines:\n",
    "def word_to_random(filename):\n",
    "    with open(filename) as file:\n",
    "        lines = file.readlines()\n",
    "    return lines.random\n"
   ]
  },
  {
   "cell_type": "markdown",
   "id": "ab21e333",
   "metadata": {},
   "source": [
    "*Exercise 7.4:Sum of lists*"
   ]
  },
  {
   "cell_type": "code",
   "execution_count": 23,
   "id": "6f1fa6aa",
   "metadata": {},
   "outputs": [],
   "source": [
    "#a\n",
    "import random\n",
    "def random_Write(n):\n",
    "# Open a file  for writing \n",
    "    file_w = open('random.txt', 'w')\n",
    "       \n",
    "    for i in range(0,n):\n",
    "        rand = random.randrange(a,b)\n",
    "        file_w.write(str(rand) + '\\n')\n",
    "        #closing file\n",
    "    file_w.close()"
   ]
  },
  {
   "cell_type": "code",
   "execution_count": 24,
   "id": "e89d79bd",
   "metadata": {},
   "outputs": [],
   "source": [
    "#b\n",
    "def random_Read():\n",
    "    readFile = open('random.txt', 'r')\n",
    "    count = 0\n",
    "    total = 0\n",
    "    for lines in readFile.readlines():\n",
    "        count +=1\n",
    "        total += float(lines)\n",
    "        print ('number count: ', str(count))\n",
    "        print ('The numbers add up to: ', str(total))\n",
    "    readFile.close()"
   ]
  },
  {
   "cell_type": "code",
   "execution_count": 25,
   "id": "bdbef3cf",
   "metadata": {},
   "outputs": [],
   "source": [
    "#c\n",
    "def sum_problem(file1, file2, k):\n",
    "    list1 = read_data(file1)\n",
    "    list2 = read_data(file2)\n",
    "    for item1 in list1:\n",
    "        for item2 in list2:\n",
    "            if (int(item1) + int(item2) == int(k)):\n",
    "                print(\"u: \",item1.strip(),\" / v: \", item2.strip())"
   ]
  },
  {
   "cell_type": "code",
   "execution_count": null,
   "id": "90f0b7b4",
   "metadata": {},
   "outputs": [],
   "source": []
  },
  {
   "cell_type": "markdown",
   "id": "902b4b45",
   "metadata": {},
   "source": [
    "***Exercise 8: Classes***"
   ]
  },
  {
   "cell_type": "markdown",
   "id": "48400151",
   "metadata": {},
   "source": [
    "*Exercise 8.1:Rational Numbers*"
   ]
  },
  {
   "cell_type": "code",
   "execution_count": 29,
   "id": "8c2ca681",
   "metadata": {},
   "outputs": [],
   "source": [
    "class Rational():\n",
    "    def __init__(result, p, q):\n",
    "        result.p = p\n",
    "        result.q = q\n",
    "        result.val = p / q\n",
    "\n",
    "    def __repr__(result):\n",
    "        return(str(result.val))\n",
    "    \n",
    "    @staticmethod\n",
    "    def gcd(p, q):\n",
    "        if(q==0):\n",
    "            return p\n",
    "        else:\n",
    "            return Rational.gcd(q,p%q)\n",
    "        \n",
    "    def simplify(result):\n",
    "        gcd = Rational.gcd(result.p, result.q)\n",
    "        return (str(result.p / gcd)), \"/\", (str(result.q / gcd))\n",
    "    \n",
    "    def __add__(result, rational_to_add):\n",
    "        return result.val + rational_to_add        \n",
    "    \n",
    "    def __sub__(result):\n",
    "        return result.val - rational_to_add    \n",
    "    \n",
    "    def __mul__(result):\n",
    "        return result.val * rational_to_add    \n",
    "    \n",
    "    def __div__(result):\n",
    "        return result.val / rational_to_add    \n",
    "    \n",
    "    def is_equal(result):\n",
    "        return result.simplify(result) == result.simplify(rational_to_add) \n",
    "    \n",
    "    def __float__(result):\n",
    "        return float(result.val)   \n",
    "        \n",
    "\n",
    "    \n",
    "     \n",
    "        \n"
   ]
  },
  {
   "cell_type": "markdown",
   "id": "3e6b9dd8",
   "metadata": {},
   "source": [
    "*Exercise 8.2: Rock Paper Scissors*"
   ]
  },
  {
   "cell_type": "code",
   "execution_count": null,
   "id": "f9e78be0",
   "metadata": {},
   "outputs": [],
   "source": [
    "class Game:\n",
    "    def _init_(self, agent1, agent2):\n",
    "        self.moves_a1 = []\n",
    "        self.moves_a2 = []\n",
    "        self.nround = 0\n",
    "        self.score_a1 = 0\n",
    "        self.score_a2 = 0\n",
    "\n",
    "        self.agent1 = agent1\n",
    "        self.agent2 = agent2\n",
    "\n",
    "    def round(self):\n",
    "        print 'Round {}: '.format(self.nround+1)\n",
    "        # we pass along history so a player can take that into account when\n",
    "        # deciding the next move\n",
    "        move_a1 = self.agent1.getMove(self.moves_a2, self.moves_a1)\n",
    "        move_a2 = self.agent2.getMove(self.moves_a1, self.moves_a2)\n",
    "\n",
    "        # compare the moves and decide who wins\n",
    "        outcome = self.compare(move_a1, move_a2)\n",
    "\n",
    "        # output outcome of current round\n",
    "        if outcome == 1:\n",
    "            print 'Player 1 wins: {} beats {}'.format(move_a1, move_a2)\n",
    "        elif outcome == 0:\n",
    "            print 'This round is tied, both players played {}'.format(move_a1)\n",
    "        else:\n",
    "            print 'Player 2 wins: {} beats {}'.format(move_a2, move_a1)\n",
    "\n",
    "        # update scores\n",
    "        \n",
    "        for i in range(0,nrounds):\n",
    "            if outcome==1:\n",
    "                self.score_a1 += 1\n",
    "            elif outcome == 0:\n",
    "                print 'Tie'\n",
    "            else:\n",
    "                self.score_a2 +=1\n",
    "            print 'the scores are' + 'p1:'+ self.score_a1 +'p2:' + self.score_a2 +'.'\n",
    "\n",
    "        self.moves_a1.append(move_a1)\n",
    "        self.moves_a2.append(move_a2)\n",
    "\n",
    "    def play(self, nrounds):\n",
    "        for r in xrange(nrounds):\n",
    "            self.round()\n",
    "            self.nround += 1\n",
    "\n",
    "    def summary(self):\n",
    "        # print some summary of the games\n",
    "        print '='*20\n",
    "        if self.score_a1 > self.score_a2:\n",
    "            print 'Player 1 wins'\n",
    "        elif self.score_a1 < self.score_a2:\n",
    "            print 'Player 2 wins'\n",
    "        else:\n",
    "            print 'The game ends in a tie'\n",
    "\n",
    "        print 'Final score: {} - {}'.format(self.score_a1, self.score_a2)\n",
    "\n",
    "        # To implement: find the move that was played most often\n",
    "\n",
    "\n",
    "def most_common_move(whole_moves,n):\n",
    "    self.moves_a1 = []\n",
    "    self.moves_a2 = []\n",
    "    whole_moves= self.moves_a1.append(self.moves_a2)\n",
    "    counter= Counter(whole_moves)\n",
    "   \n",
    "    most_common_move = counter.most_common(n)\n",
    "  \n",
    "    return most_common_move\n",
    "\n",
    "        print 'Most played move: {}'.format(0)\n",
    "        print '='*20\n",
    "\n",
    "    def compare(self, move1, move2):\n",
    "        # returns 1 if move1 wins, 0 if it's a tie, and -1 if move2 wins\n",
    "\n",
    "        # YOUR CODE HERE\n",
    "\n",
    "        return 0"
   ]
  },
  {
   "cell_type": "markdown",
   "id": "71f6948c",
   "metadata": {},
   "source": [
    "*Exercise 8.6: Binary Search Tree*"
   ]
  },
  {
   "cell_type": "code",
   "execution_count": null,
   "id": "8c623281",
   "metadata": {},
   "outputs": [],
   "source": [
    "class Node:\n",
    "    def __init__(self, val=None):\n",
    "        self.left = None\n",
    "        self.right = None\n",
    "        self.val = val\n",
    "\n",
    "    def insert(self, val):\n",
    "        if not self.val:\n",
    "            self.val = val\n",
    "            return\n",
    "\n",
    "        if self.val == val:\n",
    "            return\n",
    "\n",
    "        if val < self.val:\n",
    "            if self.left:\n",
    "                self.left.insert(val)\n",
    "                return\n",
    "            self.left = Node(val)\n",
    "            return\n",
    "\n",
    "        if self.right:\n",
    "            self.right.insert(val)\n",
    "            return\n",
    "        self.right = Node(val)\n",
    "\n",
    "    def exists(self, val):\n",
    "        if val == self.val:\n",
    "            return True\n",
    "\n",
    "        if val < self.val:\n",
    "            if self.left == None:\n",
    "                return False\n",
    "            return self.left.exists(val)\n",
    "\n",
    "        if self.right == None:\n",
    "            return False\n",
    "        \n",
    "        return self.right.exists(val)\n",
    "    \n",
    "    def inorder(self, vals):\n",
    "        if self.left is not None:\n",
    "            self.left.inorder(vals)\n",
    "        if self.val is not None:\n",
    "            vals.append(self.val)\n",
    "        if self.right is not None:\n",
    "            self.right.inorder(vals)\n",
    "        return vals"
   ]
  }
 ],
 "metadata": {
  "kernelspec": {
   "display_name": "Python 3",
   "language": "python",
   "name": "python3"
  },
  "language_info": {
   "codemirror_mode": {
    "name": "ipython",
    "version": 3
   },
   "file_extension": ".py",
   "mimetype": "text/x-python",
   "name": "python",
   "nbconvert_exporter": "python",
   "pygments_lexer": "ipython3",
   "version": "3.8.8"
  }
 },
 "nbformat": 4,
 "nbformat_minor": 5
}
